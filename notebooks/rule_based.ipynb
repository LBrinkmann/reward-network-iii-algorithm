{
 "cells": [
  {
   "cell_type": "code",
   "execution_count": null,
   "id": "93ea7319",
   "metadata": {
    "tags": [
     "injected-parameters"
    ]
   },
   "outputs": [],
   "source": [
    "# Parameters\n",
    "project_folder = \"c:\\\\\\\\Users\\\\\\\\Sara Bonati\\\\\\\\Desktop\\\\\\\\MPI work\\\\\\\\Machines\\\\\\\\Reward_network_task\"\n",
    "solution_columns = [\"network_id\", \"strategy\", \"step\", \"source_node\", \"current_node\", \"reward\", \"total_reward\"]\n"
   ]
  },
  {
   "cell_type": "markdown",
   "id": "1d5dcdd4",
   "metadata": {
    "papermill": {},
    "tags": []
   },
   "source": [
    "# Rule\n",
    "\n",
    "* in general always take the edge with the larger payoff\n",
    "* however: take the first large loss (only the first)"
   ]
  },
  {
   "cell_type": "code",
   "execution_count": 10,
   "id": "c83b0bb5",
   "metadata": {
    "papermill": {},
    "tags": []
   },
   "outputs": [],
   "source": [
    "import numpy as np\n",
    "import pandas as pd\n",
    "from scipy import stats\n",
    "import matplotlib.pyplot as plt\n",
    "from matplotlib.patches import Patch\n",
    "from matplotlib.lines import Line2D\n",
    "import seaborn as sns\n",
    "import os\n",
    "import glob\n",
    "import json\n",
    "import logging\n",
    "sns.set_theme()\n",
    "\n",
    "from environment_sara import Reward_Network"
   ]
  },
  {
   "cell_type": "code",
   "execution_count": 13,
   "id": "99386c8c",
   "metadata": {
    "papermill": {},
    "tags": []
   },
   "outputs": [],
   "source": [
    "project_folder= 'c:\\\\Users\\\\Sara Bonati\\\\Desktop\\\\MPI work\\\\Machines\\\\Reward_network_task'\n",
    "solution_columns= ['network_id','strategy','step','source_node','current_node','reward','total_reward']"
   ]
  },
  {
   "cell_type": "code",
   "execution_count": 14,
   "id": "866f78fe",
   "metadata": {
    "papermill": {},
    "tags": []
   },
   "outputs": [],
   "source": [
    "# directory management\n",
    "code_dir = os.path.join(project_folder,'reward-network-iii-algorithm')\n",
    "data_dir = os.path.join(project_folder,'data','dev')"
   ]
  },
  {
   "cell_type": "markdown",
   "id": "446feace",
   "metadata": {},
   "source": [
    "### define agent class"
   ]
  },
  {
   "cell_type": "code",
   "execution_count": 16,
   "id": "e3a76617",
   "metadata": {
    "papermill": {},
    "tags": []
   },
   "outputs": [],
   "source": [
    "class Rule_Agent:\n",
    "\n",
    "    def __init__(self,strategy,networks_file):\n",
    "\n",
    "        # assert tests\n",
    "        assert strategy in ['highest_payoff','take_first_loss'], f'Strategy name must be one of {[\"highest_payoff\",\"take_first_loss\"]}, got {strategy}'\n",
    "        assert os.path.exists(networks_file), f'The data file at {networks_file} does not exist'\n",
    "        \n",
    "        self.strategy =  strategy\n",
    "        if self.strategy == 'take_first_loss':\n",
    "            self.loss_counter = 0\n",
    "        \n",
    "        self.networks_file = networks_file\n",
    "        self.solution = []\n",
    "        self.solution_filename = os.path.join(data_dir,f'Solution_log_{self.strategy}.csv')\n",
    "        self.colors = {'highest_payoff':'skyblue','take_first_loss':'orangered'}\n",
    "\n",
    "    \n",
    "    def select_action(self):\n",
    "        \"\"\"\n",
    "        This method finds possible actions from the current node and\n",
    "        selects one based on current strategy\n",
    "        \"\"\"\n",
    "        \n",
    "        self.possible_actions = [a for a in self.environment.action_space if a['sourceId']==self.environment.current_node]\n",
    "        self.possible_actions_rewards = np.asarray([a['reward'] for a in self.environment.action_space if a['sourceId']==self.environment.current_node])\n",
    "        \n",
    "        # take first loss -> select among possible actions the one that gives best reward BUT make sure to take a first big loss\n",
    "        if self.strategy == 'take_first_loss' and self.loss_counter<1 and -100 in self.possible_actions_rewards:\n",
    "            self.loss_counter +=1\n",
    "            return self.possible_actions[np.argwhere(self.possible_actions_rewards==-100)[0][0]]\n",
    "            \n",
    "        else:\n",
    "            # highest payoff -> select among possible actions the one that gives best reward\n",
    "            #print(f'select action at index {np.argmax(self.possible_actions_rewards)+1}')\n",
    "            #print('\\n')\n",
    "            return self.possible_actions[np.argmax(self.possible_actions_rewards)]\n",
    "\n",
    "    def solve(self):\n",
    "        \"\"\" \n",
    "        the agent solves the task, with different constraints depending on the strategy.\n",
    "        Returns solved reward network in tabular form\n",
    "        \"\"\"\n",
    "        with open(self.networks_file) as json_file:\n",
    "            self.envs = json.load(json_file)\n",
    "        \n",
    "        # loop over all reward networks in data file\n",
    "        for e in range(len(self.envs)):\n",
    "            \n",
    "            self.environment = Reward_Network(self.envs[e])\n",
    "            self.environment.reset()\n",
    "            \n",
    "            while self.environment.is_done==False:\n",
    "                s = []\n",
    "                a = self.select_action()\n",
    "                obs = self.environment.step(a)\n",
    "                \n",
    "                s.append(self.environment.id)\n",
    "                s.append(self.strategy)\n",
    "                s.append(obs['n_steps'])\n",
    "                s.append(obs['source_node'])\n",
    "                s.append(obs['current_node'])\n",
    "                s.append(obs['reward'])\n",
    "                s.append(obs['total_reward'])\n",
    "                self.solution.append(s)\n",
    "\n",
    "        self.solution_df = pd.DataFrame(self.solution, columns = solution_columns)\n",
    "        self.solution_df.to_csv(self.solution_filename,sep='\\t')\n",
    "\n",
    "    def inspect_solutions(self):\n",
    "        g = sns.displot(data=self.df[self.df['step']==8], x=\"total_reward\", kde=True, color=self.colors[self.strategy])\n",
    "        g.set(xlim=(-300,300),xlabel='Final reward',ylabel='Count')\n",
    "        plt.show()"
   ]
  },
  {
   "cell_type": "markdown",
   "id": "0d40bf8c",
   "metadata": {
    "papermill": {},
    "tags": []
   },
   "source": [
    "## Solve networks + compare strategies' results"
   ]
  },
  {
   "cell_type": "code",
   "execution_count": 18,
   "id": "66ecb1eb",
   "metadata": {
    "papermill": {},
    "tags": []
   },
   "outputs": [
    {
     "name": "stdout",
     "output_type": "stream",
     "text": [
      "Ttest_relResult(statistic=-0.9999999999999998, pvalue=0.3175526601764128)\n"
     ]
    },
    {
     "data": {
      "image/png": "[encoded data removed]",
      "text/plain": [
       "<Figure size 471.1x360 with 1 Axes>"
      ]
     },
     "metadata": {
      "needs_background": "light"
     },
     "output_type": "display_data"
    }
   ],
   "source": [
    "A = Rule_Agent('highest_payoff',os.path.join(data_dir,'train.json'))\n",
    "A.solve()\n",
    "B = Rule_Agent('take_first_loss',os.path.join(data_dir,'train.json'))\n",
    "B.solve()\n",
    "\n",
    "if os.path.exists(A.solution_filename) and os.path.exists(B.solution_filename):\n",
    "    # load solution data \n",
    "    strategy_A = pd.read_csv(A.solution_filename,sep='\\t')\n",
    "    strategy_A = strategy_A[strategy_A['step']==8]\n",
    "    strategy_B = pd.read_csv(B.solution_filename,sep='\\t')\n",
    "    strategy_B = strategy_B[strategy_B['step']==8]\n",
    "    \n",
    "    # perform t-test\n",
    "    strategy_data = pd.concat([strategy_A,strategy_B],ignore_index=True)\n",
    "    result = stats.ttest_rel(strategy_data[strategy_data['strategy']=='highest_payoff']['total_reward'],\n",
    "                             strategy_data[strategy_data['strategy']=='take_first_loss']['total_reward'])\n",
    "\n",
    "    #display results\n",
    "    print(result)\n",
    "\n",
    "    g=sns.displot(data=strategy_data, x=\"total_reward\", hue=\"strategy\", kind=\"kde\")\n",
    "    g.set(xlabel='Final reward',ylabel='Density',title=f'Strategy comparison T-test (T={round(result.statistic,3)}, p={round(result.pvalue,3)})')\n",
    "\n"
   ]
  }
 ],
 "metadata": {
  "kernelspec": {
   "display_name": "Python 3.8.10 ('.venv': venv)",
   "language": "python",
   "name": "python3"
  },
  "language_info": {
   "codemirror_mode": {
    "name": "ipython",
    "version": 3
   },
   "file_extension": ".py",
   "mimetype": "text/x-python",
   "name": "python",
   "nbconvert_exporter": "python",
   "pygments_lexer": "ipython3",
   "version": "3.8.10"
  },
  "papermill": {
   "default_parameters": {},
   "environment_variables": {},
   "input_path": "C:\\Users\\Sara Bonati\\Desktop\\MPI work\\Machines\\Reward_network_task\\reward-network-iii-algorithm\\notebooks\\rule_based.ipynb",
   "output_path": "C:\\Users\\Sara Bonati\\Desktop\\MPI work\\Machines\\Reward_network_task\\reward-network-iii-algorithm\\notebooks\\rule_based.ipynb",
   "parameters": {
    "project_folder": "c:\\\\Users\\\\Sara Bonati\\\\Desktop\\\\MPI work\\\\Machines\\\\Reward_network_task",
    "solution_columns": [
     "network_id",
     "strategy",
     "step",
     "source_node",
     "current_node",
     "reward",
     "total_reward"
    ]
   },
   "version": "2.3.4"
  },
  "vscode": {
   "interpreter": {
    "hash": "e378192994fcab4b6aa5c43566f31cf93bf0c96cf2cac98a4b499dab3a742de6"
   }
  }
 },
 "nbformat": 4,
 "nbformat_minor": 5
}
