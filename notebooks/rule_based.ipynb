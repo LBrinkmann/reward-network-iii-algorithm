{
 "cells": [
  {
   "cell_type": "markdown",
   "id": "1d5dcdd4",
   "metadata": {},
   "source": [
    "# Rule\n",
    "\n",
    "* in general always take the edge with the larger payoff\n",
    "* however: take the first large loss (only the first)"
   ]
  }
 ],
 "metadata": {
  "kernelspec": {
   "display_name": "Python 3.9.10 ('.venv': venv)",
   "language": "python",
   "name": "python3"
  },
  "language_info": {
   "name": "python",
   "version": "3.9.10"
  },
  "papermill": {
   "default_parameters": {},
   "environment_variables": {},
   "input_path": "notebooks/rule_based.ipynb",
   "output_path": "notebooks/rule_based.ipynb",
   "parameters": {
    "network_folder": "../../data/dev"
   },
   "version": "2.3.4"
  },
  "vscode": {
   "interpreter": {
    "hash": "5c6aac55b9060d8c5e909fe78b15c7c8c111d482ebd90032ffdeb7e56d867e0e"
   }
  }
 },
 "nbformat": 4,
 "nbformat_minor": 5
}
