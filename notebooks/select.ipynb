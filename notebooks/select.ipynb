{
 "cells": [
  {
   "cell_type": "code",
   "execution_count": 84,
   "metadata": {},
   "outputs": [
    {
     "name": "stdout",
     "output_type": "stream",
     "text": [
      "The autoreload extension is already loaded. To reload it, use:\n",
      "  %reload_ext autoreload\n"
     ]
    }
   ],
   "source": [
    "%load_ext autoreload\n",
    "%autoreload 2\n",
    "\n",
    "\n",
    "import os\n",
    "import pandas as pd\n",
    "from scripts.utils.utils import load_yaml, make_dir, save_json, load_json\n",
    "\n",
    "run = '1000000'\n",
    "networks_json = f'../data/{run}/generation/networks.json'\n",
    "solutions_df = f'../data/{run}/solutions/solutions.parquet.gzip'\n",
    "\n",
    "selected_folder =  f'../data/{run}/selected'\n",
    "\n"
   ]
  },
  {
   "cell_type": "markdown",
   "metadata": {},
   "source": [
    "# Loading data\n",
    "\n",
    "We are loading the solutions calculated in a previous step. Each row represents an individual action of an individual solution. The dataset contains all solutions of all networks with regret less then 105."
   ]
  },
  {
   "cell_type": "code",
   "execution_count": 85,
   "metadata": {},
   "outputs": [
    {
     "data": {
      "text/html": [
       "<div>\n",
       "<style scoped>\n",
       "    .dataframe tbody tr th:only-of-type {\n",
       "        vertical-align: middle;\n",
       "    }\n",
       "\n",
       "    .dataframe tbody tr th {\n",
       "        vertical-align: top;\n",
       "    }\n",
       "\n",
       "    .dataframe thead th {\n",
       "        text-align: right;\n",
       "    }\n",
       "</style>\n",
       "<table border=\"1\" class=\"dataframe\">\n",
       "  <thead>\n",
       "    <tr style=\"text-align: right;\">\n",
       "      <th></th>\n",
       "      <th>network_id</th>\n",
       "      <th>solution_id</th>\n",
       "      <th>actions</th>\n",
       "      <th>action</th>\n",
       "      <th>step</th>\n",
       "      <th>source_node</th>\n",
       "      <th>target_node</th>\n",
       "      <th>reward</th>\n",
       "      <th>other_reward</th>\n",
       "      <th>cum_reward</th>\n",
       "      <th>2step_lookahead</th>\n",
       "      <th>other_2step_lookahead</th>\n",
       "      <th>lookahead</th>\n",
       "      <th>other_lookahead</th>\n",
       "      <th>total_reward</th>\n",
       "      <th>total_regret</th>\n",
       "    </tr>\n",
       "  </thead>\n",
       "  <tbody>\n",
       "    <tr>\n",
       "      <th>0</th>\n",
       "      <td>42_0</td>\n",
       "      <td>58</td>\n",
       "      <td>00111010</td>\n",
       "      <td>0</td>\n",
       "      <td>0</td>\n",
       "      <td>1</td>\n",
       "      <td>0</td>\n",
       "      <td>140.0</td>\n",
       "      <td>140.0</td>\n",
       "      <td>140.0</td>\n",
       "      <td>160.0</td>\n",
       "      <td>120.0</td>\n",
       "      <td>520.0</td>\n",
       "      <td>520.0</td>\n",
       "      <td>440.0</td>\n",
       "      <td>80.0</td>\n",
       "    </tr>\n",
       "    <tr>\n",
       "      <th>1</th>\n",
       "      <td>42_0</td>\n",
       "      <td>58</td>\n",
       "      <td>00111010</td>\n",
       "      <td>0</td>\n",
       "      <td>1</td>\n",
       "      <td>0</td>\n",
       "      <td>1</td>\n",
       "      <td>-100.0</td>\n",
       "      <td>20.0</td>\n",
       "      <td>40.0</td>\n",
       "      <td>40.0</td>\n",
       "      <td>160.0</td>\n",
       "      <td>300.0</td>\n",
       "      <td>380.0</td>\n",
       "      <td>440.0</td>\n",
       "      <td>80.0</td>\n",
       "    </tr>\n",
       "    <tr>\n",
       "      <th>2</th>\n",
       "      <td>42_0</td>\n",
       "      <td>58</td>\n",
       "      <td>00111010</td>\n",
       "      <td>1</td>\n",
       "      <td>2</td>\n",
       "      <td>1</td>\n",
       "      <td>2</td>\n",
       "      <td>140.0</td>\n",
       "      <td>140.0</td>\n",
       "      <td>180.0</td>\n",
       "      <td>120.0</td>\n",
       "      <td>160.0</td>\n",
       "      <td>400.0</td>\n",
       "      <td>360.0</td>\n",
       "      <td>440.0</td>\n",
       "      <td>80.0</td>\n",
       "    </tr>\n",
       "    <tr>\n",
       "      <th>3</th>\n",
       "      <td>42_0</td>\n",
       "      <td>58</td>\n",
       "      <td>00111010</td>\n",
       "      <td>1</td>\n",
       "      <td>3</td>\n",
       "      <td>2</td>\n",
       "      <td>1</td>\n",
       "      <td>-20.0</td>\n",
       "      <td>-20.0</td>\n",
       "      <td>160.0</td>\n",
       "      <td>120.0</td>\n",
       "      <td>0.0</td>\n",
       "      <td>260.0</td>\n",
       "      <td>180.0</td>\n",
       "      <td>440.0</td>\n",
       "      <td>80.0</td>\n",
       "    </tr>\n",
       "    <tr>\n",
       "      <th>4</th>\n",
       "      <td>42_0</td>\n",
       "      <td>58</td>\n",
       "      <td>00111010</td>\n",
       "      <td>1</td>\n",
       "      <td>4</td>\n",
       "      <td>1</td>\n",
       "      <td>2</td>\n",
       "      <td>140.0</td>\n",
       "      <td>140.0</td>\n",
       "      <td>300.0</td>\n",
       "      <td>120.0</td>\n",
       "      <td>160.0</td>\n",
       "      <td>280.0</td>\n",
       "      <td>200.0</td>\n",
       "      <td>440.0</td>\n",
       "      <td>80.0</td>\n",
       "    </tr>\n",
       "  </tbody>\n",
       "</table>\n",
       "</div>"
      ],
      "text/plain": [
       "  network_id  solution_id   actions  action  step  source_node  target_node  \\\n",
       "0       42_0           58  00111010       0     0            1            0   \n",
       "1       42_0           58  00111010       0     1            0            1   \n",
       "2       42_0           58  00111010       1     2            1            2   \n",
       "3       42_0           58  00111010       1     3            2            1   \n",
       "4       42_0           58  00111010       1     4            1            2   \n",
       "\n",
       "   reward  other_reward  cum_reward  2step_lookahead  other_2step_lookahead  \\\n",
       "0   140.0         140.0       140.0            160.0                  120.0   \n",
       "1  -100.0          20.0        40.0             40.0                  160.0   \n",
       "2   140.0         140.0       180.0            120.0                  160.0   \n",
       "3   -20.0         -20.0       160.0            120.0                    0.0   \n",
       "4   140.0         140.0       300.0            120.0                  160.0   \n",
       "\n",
       "   lookahead  other_lookahead  total_reward  total_regret  \n",
       "0      520.0            520.0         440.0          80.0  \n",
       "1      300.0            380.0         440.0          80.0  \n",
       "2      400.0            360.0         440.0          80.0  \n",
       "3      260.0            180.0         440.0          80.0  \n",
       "4      280.0            200.0         440.0          80.0  "
      ]
     },
     "execution_count": 85,
     "metadata": {},
     "output_type": "execute_result"
    }
   ],
   "source": [
    "df = pd.read_parquet(solutions_df)\n",
    "df.head()"
   ]
  },
  {
   "cell_type": "markdown",
   "metadata": {},
   "source": [
    "# Metrics at the level of actions\n",
    "\n",
    "First we are evaluating individual actions of potential solutions."
   ]
  },
  {
   "cell_type": "code",
   "execution_count": 86,
   "metadata": {},
   "outputs": [],
   "source": [
    "groupby = ['network_id', 'solution_id']\n",
    "\n",
    "# reward is strictly larger then alternative reward\n",
    "df['myopic'] = df['reward'] > df['other_reward']\n",
    "# rewards are identical\n",
    "df['indifferent'] = df['reward'] == df['other_reward']\n",
    "# the maximum reward of the next two steps\n",
    "df['2step_myopic'] = df['2step_lookahead'] > df['other_2step_lookahead']\n",
    "# action is strictly myopic, or if indifferent has the larger two step reward\n",
    "df['loose_myopic'] = df['myopic'] | (df['indifferent'] & df['2step_myopic'])\n",
    "\n",
    "\n",
    "# reward is -100 and other reward is different\n",
    "df['large_loss'] = (df['reward'] == -100) & ~df['indifferent']\n",
    "# large loss in the first two steps\n",
    "df['early_large_loss'] = df['large_loss'] & (df['step'] == 1)\n",
    "#  steps after the first two are loosely myopic\n",
    "df['later_loose_myopic'] = df['myopic'] | (df['step'] == 1) # test\n"
   ]
  },
  {
   "cell_type": "markdown",
   "metadata": {},
   "source": [
    "# Aggregated metrics at the level of solutions"
   ]
  },
  {
   "cell_type": "code",
   "execution_count": 87,
   "metadata": {},
   "outputs": [],
   "source": [
    "\n",
    "# all actions of solution are loosly myopic\n",
    "df['all_loose_myopic'] = df.groupby(groupby)['loose_myopic'].transform('all')\n",
    "# number of unique nodes in the solution\n",
    "df['unique_nodes'] = df.groupby(groupby)['source_node'].transform('nunique')\n",
    "# solution has a large loss in the first two actions\n",
    "df['any_early_large_loss'] = df.groupby(groupby)['early_large_loss'].transform('any')\n",
    "# all actions after the first two are myopic\n",
    "df['all_later_loose_myopic'] = df.groupby(groupby)['later_loose_myopic'].transform('all')"
   ]
  },
  {
   "cell_type": "markdown",
   "metadata": {},
   "source": [
    "# Selection of solution into three (partly disjunct) categories\n",
    "\n",
    "We select from each category the best solution as reference."
   ]
  },
  {
   "cell_type": "code",
   "execution_count": 88,
   "metadata": {},
   "outputs": [],
   "source": [
    "w_alien = (\n",
    "    df['any_early_large_loss'] &\n",
    "    df['all_later_loose_myopic'] &\n",
    "    (df['unique_nodes'] >= 6)\n",
    ")\n",
    "w_decoy = (\n",
    "    df['all_loose_myopic']\n",
    ")\n",
    "w_other = ~df['any_early_large_loss']"
   ]
  },
  {
   "cell_type": "code",
   "execution_count": 89,
   "metadata": {},
   "outputs": [],
   "source": [
    "# get minimal regret per solution category and network\n",
    "alien = df[w_alien].groupby('network_id')['total_regret'].min()\n",
    "decoy = df[w_decoy].groupby('network_id')['total_regret'].min()\n",
    "other = df[w_other].groupby('network_id')['total_regret'].min()\n",
    "\n",
    "# get cumulative reward at step 4 for the best alien and the best decoy solution\n",
    "alien_idx = df[w_alien].set_index(['network_id', 'solution_id']).groupby('network_id')['total_regret'].idxmin()\n",
    "alien_sol = df.set_index(['network_id', 'solution_id']).loc[alien_idx]\n",
    "alien_step_4_reward = alien_sol.loc[alien_sol['step'] == 4, 'cum_reward']\n",
    "alien_step_4_reward.index = alien_step_4_reward.index.droplevel('solution_id')\n",
    "\n",
    "decoy_idx = df[w_decoy].set_index(['network_id', 'solution_id']).groupby('network_id')['total_regret'].idxmin()\n",
    "decoy_sol = df.set_index(['network_id', 'solution_id']).loc[decoy_idx]\n",
    "decoy_step_4_reward = decoy_sol.loc[decoy_sol['step'] == 4, 'cum_reward']\n",
    "decoy_step_4_reward.index = decoy_step_4_reward.index.droplevel('solution_id')\n",
    "\n",
    "best = pd.DataFrame({\n",
    "    'alien': alien,\n",
    "    'decoy': decoy,\n",
    "    'other': other,\n",
    "    'decoy_step_4_reward': decoy_step_4_reward,\n",
    "    'alien_step_4_reward': alien_step_4_reward\n",
    "})"
   ]
  },
  {
   "cell_type": "markdown",
   "metadata": {},
   "source": [
    "# Select of networks\n",
    "\n",
    "We select a network if,\n",
    "* the best solution is `alien`\n",
    "* the next best non alien solution is at least 40 points worse\n",
    "* there is a decoy solution not more then 60 points worse\n",
    "* the decoy solution as a higher cumulative payoff after the first 4 steps"
   ]
  },
  {
   "cell_type": "code",
   "execution_count": null,
   "metadata": {},
   "outputs": [
    {
     "name": "stdout",
     "output_type": "stream",
     "text": [
      "There are 56 networks fitting the criteria.\n"
     ]
    }
   ],
   "source": [
    "w = (\n",
    "    (best['alien'] == 0) &\n",
    "    (best['other'] >= 40) &\n",
    "    (best['decoy'] <= 60) &\n",
    "    (best['decoy_step_4_reward'] > best['alien_step_4_reward'])\n",
    ")\n",
    "\n",
    "print(f'There are {w.sum()} networks fitting the criteria.')\n",
    "\n",
    "selected_network_ids = w[w].index.tolist()"
   ]
  },
  {
   "cell_type": "markdown",
   "metadata": {},
   "source": [
    "# Create test and train set\n",
    "\n",
    "We split the selected networks into train and test, and save the corresponding networks."
   ]
  },
  {
   "cell_type": "code",
   "execution_count": null,
   "metadata": {},
   "outputs": [],
   "source": [
    "import random\n",
    "test_ids = random.sample(selected_network_ids, 10)\n",
    "training_ids = list(set(selected_network_ids) - set(test))"
   ]
  },
  {
   "cell_type": "code",
   "execution_count": null,
   "metadata": {},
   "outputs": [],
   "source": [
    "networks = load_json(networks_json)\n",
    "\n",
    "make_dir(selected_folder)\n",
    "test_file = os.path.join(selected_folder, 'test.json')\n",
    "train_file = os.path.join(selected_folder, 'train.json')\n",
    "\n",
    "net_max_r = df.groupby('network_id')['total_reward'].max()\n",
    "\n",
    "test_networks = [\n",
    "    {**n, 'max_reward': net_max_r[n['network_id']]} \n",
    "    for n in networks if n['network_id'] in test_ids\n",
    "]\n",
    "train_networks = [\n",
    "    {**n, 'max_reward': net_max_r[n['network_id']]} \n",
    "    for n in networks if n['network_id'] in training_ids\n",
    "]\n",
    "\n",
    "save_json(test_networks, test_file)\n",
    "save_json(train_networks, train_file)"
   ]
  }
 ],
 "metadata": {
  "interpreter": {
   "hash": "8dd77bba1baced248a8a06b3d423a69f02665d6f465b986b031643d067a6fbff"
  },
  "kernelspec": {
   "display_name": "Python 3.9.3 64-bit ('.venv': venv)",
   "language": "python",
   "name": "python3"
  },
  "language_info": {
   "codemirror_mode": {
    "name": "ipython",
    "version": 3
   },
   "file_extension": ".py",
   "mimetype": "text/x-python",
   "name": "python",
   "nbconvert_exporter": "python",
   "pygments_lexer": "ipython3",
   "version": "3.9.3"
  },
  "orig_nbformat": 4
 },
 "nbformat": 4,
 "nbformat_minor": 2
}
