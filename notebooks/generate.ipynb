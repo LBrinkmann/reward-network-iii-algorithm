{
 "cells": [
  {
   "cell_type": "code",
   "execution_count": 1,
   "source": [
    "from scripts.utils.utils import load_json"
   ],
   "outputs": [],
   "metadata": {}
  },
  {
   "cell_type": "code",
   "execution_count": 3,
   "source": [
    "networks = load_json('../data/test/networks/networks.json')"
   ],
   "outputs": [],
   "metadata": {}
  },
  {
   "cell_type": "code",
   "execution_count": 5,
   "source": [
    "len(networks)"
   ],
   "outputs": [
    {
     "output_type": "execute_result",
     "data": {
      "text/plain": [
       "{'directed': True,\n",
       " 'multigraph': False,\n",
       " 'graph': {'directed': True},\n",
       " 'nodes': [{'id': 0}, {'id': 3}, {'id': 2}, {'id': 1}, {'id': 5}, {'id': 4}],\n",
       " 'links': [{'weight': -100, 'action': 1, 'source': 0, 'target': 3},\n",
       "  {'weight': -100, 'action': 0, 'source': 0, 'target': 2},\n",
       "  {'weight': -20, 'action': 0, 'source': 3, 'target': 1},\n",
       "  {'weight': 20, 'action': 1, 'source': 3, 'target': 4},\n",
       "  {'weight': -20, 'action': 0, 'source': 2, 'target': 5},\n",
       "  {'weight': 20, 'action': 1, 'source': 2, 'target': 3},\n",
       "  {'weight': 20, 'action': 1, 'source': 1, 'target': 3},\n",
       "  {'weight': -100, 'action': 0, 'source': 1, 'target': 0},\n",
       "  {'weight': 140, 'action': 1, 'source': 5, 'target': 0},\n",
       "  {'weight': -20, 'action': 0, 'source': 5, 'target': 2},\n",
       "  {'weight': 140, 'action': 1, 'source': 4, 'target': 1},\n",
       "  {'weight': 140, 'action': 0, 'source': 4, 'target': 3}],\n",
       " 'network_id': '10_1'}"
      ]
     },
     "metadata": {},
     "execution_count": 5
    }
   ],
   "metadata": {}
  },
  {
   "cell_type": "code",
   "execution_count": null,
   "source": [],
   "outputs": [],
   "metadata": {}
  }
 ],
 "metadata": {
  "orig_nbformat": 4,
  "language_info": {
   "name": "python",
   "version": "3.7.10",
   "mimetype": "text/x-python",
   "codemirror_mode": {
    "name": "ipython",
    "version": 3
   },
   "pygments_lexer": "ipython3",
   "nbconvert_exporter": "python",
   "file_extension": ".py"
  },
  "kernelspec": {
   "name": "python3",
   "display_name": "Python 3.7.10 64-bit ('.venv': venv)"
  },
  "interpreter": {
   "hash": "471fd13d43a98d2b1265ce3a6d439a2d7a6b5dba7d8c697edd9b20258d86bb0a"
  }
 },
 "nbformat": 4,
 "nbformat_minor": 2
}