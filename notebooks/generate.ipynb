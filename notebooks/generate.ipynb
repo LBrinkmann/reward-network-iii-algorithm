{
 "cells": [
  {
   "cell_type": "code",
   "execution_count": 27,
   "source": [
    "from scripts.utils.utils import load_json\n",
    "import pandas as pd\n",
    "import numpy as np\n",
    "from scripts.pruning_models.classification import apply_models\n",
    "from scripts.pruning_models.model import calculate_reward_transition_matrices_new\n",
    "from scripts.utils.utils import load_yaml"
   ],
   "outputs": [],
   "metadata": {}
  },
  {
   "cell_type": "code",
   "execution_count": 2,
   "source": [
    "networks = load_json('../data/test/networks/networks.json')\n",
    "df = pd.read_parquet('../data/test/preselection/preselection.parquet.gzip')\n",
    "#df_old=pd.read_parquet('/home/gezerli/Desktop/projects/reward_networks/data/exp1/preselection/preselection.parquet.gzip')\n",
    "df_deneme = pd.read_parquet('../data/deneme/preselection/preselection.parquet.gzip')\n",
    "params=load_yaml('../params/test/deneme.yml')"
   ],
   "outputs": [],
   "metadata": {}
  },
  {
   "cell_type": "code",
   "execution_count": 3,
   "source": [
    "df_deneme"
   ],
   "outputs": [
    {
     "output_type": "execute_result",
     "data": {
      "text/plain": [
       "   index Network_ID  Starting_Node             Preselection       Q\n",
       "0      0       42_0              2     Just without outlier  blabla\n",
       "1      1       42_4              1     Just without outlier  blabla\n",
       "2      2       42_0              2  Non Trivial 4 / Nodes 4  blabla"
      ],
      "text/html": [
       "<div>\n",
       "<style scoped>\n",
       "    .dataframe tbody tr th:only-of-type {\n",
       "        vertical-align: middle;\n",
       "    }\n",
       "\n",
       "    .dataframe tbody tr th {\n",
       "        vertical-align: top;\n",
       "    }\n",
       "\n",
       "    .dataframe thead th {\n",
       "        text-align: right;\n",
       "    }\n",
       "</style>\n",
       "<table border=\"1\" class=\"dataframe\">\n",
       "  <thead>\n",
       "    <tr style=\"text-align: right;\">\n",
       "      <th></th>\n",
       "      <th>index</th>\n",
       "      <th>Network_ID</th>\n",
       "      <th>Starting_Node</th>\n",
       "      <th>Preselection</th>\n",
       "      <th>Q</th>\n",
       "    </tr>\n",
       "  </thead>\n",
       "  <tbody>\n",
       "    <tr>\n",
       "      <th>0</th>\n",
       "      <td>0</td>\n",
       "      <td>42_0</td>\n",
       "      <td>2</td>\n",
       "      <td>Just without outlier</td>\n",
       "      <td>blabla</td>\n",
       "    </tr>\n",
       "    <tr>\n",
       "      <th>1</th>\n",
       "      <td>1</td>\n",
       "      <td>42_4</td>\n",
       "      <td>1</td>\n",
       "      <td>Just without outlier</td>\n",
       "      <td>blabla</td>\n",
       "    </tr>\n",
       "    <tr>\n",
       "      <th>2</th>\n",
       "      <td>2</td>\n",
       "      <td>42_0</td>\n",
       "      <td>2</td>\n",
       "      <td>Non Trivial 4 / Nodes 4</td>\n",
       "      <td>blabla</td>\n",
       "    </tr>\n",
       "  </tbody>\n",
       "</table>\n",
       "</div>"
      ]
     },
     "metadata": {},
     "execution_count": 3
    }
   ],
   "metadata": {}
  },
  {
   "cell_type": "code",
   "execution_count": 5,
   "source": [
    "df_nam=apply_models(networks,**params)"
   ],
   "outputs": [],
   "metadata": {}
  },
  {
   "cell_type": "code",
   "execution_count": 24,
   "source": [
    "df_nam['Q'][0][0]"
   ],
   "outputs": [
    {
     "output_type": "execute_result",
     "data": {
      "text/plain": [
       "array([[-100.,   20.],\n",
       "       [ 140.,  140.],\n",
       "       [ -20.,  -20.],\n",
       "       [ 140.,  -20.],\n",
       "       [-100., -100.],\n",
       "       [  20.,   20.]])"
      ]
     },
     "metadata": {},
     "execution_count": 24
    }
   ],
   "metadata": {}
  },
  {
   "cell_type": "code",
   "execution_count": 51,
   "source": [
    "T,R=calculate_reward_transition_matrices_new(networks[2],6)\n"
   ],
   "outputs": [],
   "metadata": {}
  },
  {
   "cell_type": "code",
   "execution_count": 52,
   "source": [
    "T[0]"
   ],
   "outputs": [
    {
     "output_type": "execute_result",
     "data": {
      "text/plain": [
       "array([[0., 0.],\n",
       "       [1., 0.],\n",
       "       [0., 0.],\n",
       "       [0., 0.],\n",
       "       [0., 0.],\n",
       "       [0., 1.]])"
      ]
     },
     "metadata": {},
     "execution_count": 52
    }
   ],
   "metadata": {}
  },
  {
   "cell_type": "code",
   "execution_count": 53,
   "source": [
    "R"
   ],
   "outputs": [
    {
     "output_type": "execute_result",
     "data": {
      "text/plain": [
       "array([[ -20.,  140.],\n",
       "       [-100.,  140.],\n",
       "       [ 140., -100.],\n",
       "       [-100.,  -20.],\n",
       "       [ -20.,   20.],\n",
       "       [  20.,   20.]])"
      ]
     },
     "metadata": {},
     "execution_count": 53
    }
   ],
   "metadata": {}
  },
  {
   "cell_type": "code",
   "execution_count": 55,
   "source": [
    "networks[2]"
   ],
   "outputs": [
    {
     "output_type": "execute_result",
     "data": {
      "text/plain": [
       "{'type': 'network',\n",
       " 'version': 'four-rewards-v2',\n",
       " 'network_id': '42_2',\n",
       " 'actions': [{'reward': 140, 'sourceId': 0, 'targetId': 5},\n",
       "  {'reward': -20, 'sourceId': 0, 'targetId': 1},\n",
       "  {'reward': 20, 'sourceId': 5, 'targetId': 0},\n",
       "  {'reward': 20, 'sourceId': 5, 'targetId': 4},\n",
       "  {'reward': 140, 'sourceId': 1, 'targetId': 5},\n",
       "  {'reward': -100, 'sourceId': 1, 'targetId': 2},\n",
       "  {'reward': 140, 'sourceId': 2, 'targetId': 4},\n",
       "  {'reward': -100, 'sourceId': 2, 'targetId': 5},\n",
       "  {'reward': -20, 'sourceId': 4, 'targetId': 0},\n",
       "  {'reward': 20, 'sourceId': 4, 'targetId': 3},\n",
       "  {'reward': -100, 'sourceId': 3, 'targetId': 0},\n",
       "  {'reward': -20, 'sourceId': 3, 'targetId': 4}],\n",
       " 'nodes': [{'id': 0, 'displayName': 'A', 'x': 0.7, 'y': 0.2},\n",
       "  {'id': 5, 'displayName': 'F', 'x': 0.9, 'y': 0.5},\n",
       "  {'id': 1, 'displayName': 'B', 'x': 0.3, 'y': 0.2},\n",
       "  {'id': 2, 'displayName': 'C', 'x': 0.1, 'y': 0.5},\n",
       "  {'id': 4, 'displayName': 'E', 'x': 0.7, 'y': 0.8},\n",
       "  {'id': 3, 'displayName': 'D', 'x': 0.3, 'y': 0.8}],\n",
       " 'starting_node': 5}"
      ]
     },
     "metadata": {},
     "execution_count": 55
    }
   ],
   "metadata": {}
  },
  {
   "cell_type": "code",
   "execution_count": null,
   "source": [],
   "outputs": [],
   "metadata": {}
  }
 ],
 "metadata": {
  "orig_nbformat": 4,
  "language_info": {
   "name": "python",
   "version": "3.7.10",
   "mimetype": "text/x-python",
   "codemirror_mode": {
    "name": "ipython",
    "version": 3
   },
   "pygments_lexer": "ipython3",
   "nbconvert_exporter": "python",
   "file_extension": ".py"
  },
  "kernelspec": {
   "name": "python3",
   "display_name": "Python 3.7.10 64-bit ('.venv': venv)"
  },
  "interpreter": {
   "hash": "471fd13d43a98d2b1265ce3a6d439a2d7a6b5dba7d8c697edd9b20258d86bb0a"
  }
 },
 "nbformat": 4,
 "nbformat_minor": 2
}