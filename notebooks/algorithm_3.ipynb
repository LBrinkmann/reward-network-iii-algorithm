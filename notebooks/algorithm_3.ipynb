{
 "cells": [
  {
   "cell_type": "code",
   "execution_count": 33,
   "metadata": {},
   "outputs": [
    {
     "name": "stdout",
     "output_type": "stream",
     "text": [
      "The autoreload extension is already loaded. To reload it, use:\n",
      "  %reload_ext autoreload\n"
     ]
    }
   ],
   "source": [
    "%load_ext autoreload\n",
    "%autoreload 2\n",
    "\n",
    "import os\n",
    "import torch as th\n",
    "import numpy as np\n",
    "from scripts.utils.utils import load_yaml, make_dir, save_json, load_json\n",
    "from scripts.pruning_models.model import calculate_reward_transition_matrices_new, calculate_q_matrix_avpruning, calculate_traces\n",
    "\n",
    "run = '1000000'\n",
    "n_nodes = 6\n",
    "n_steps = 8\n",
    "n_actions = 2\n",
    "\n",
    "\n",
    "selected_folder =  f'../data/{run}/selected'\n",
    "\n",
    "test_file = os.path.join(selected_folder, 'test.json')\n",
    "train_file = os.path.join(selected_folder, 'train.json')\n",
    "\n",
    "test_networks = load_json(test_file)\n",
    "train_networks = load_json(train_file)"
   ]
  },
  {
   "cell_type": "code",
   "execution_count": 34,
   "metadata": {},
   "outputs": [],
   "source": [
    "import random\n",
    "from itertools import groupby\n",
    "\n",
    "rewards = [-100, -20, 20, 140]\n",
    "n_rewards = len(rewards)\n",
    "reward_id_map = {r: i for i,r in enumerate(rewards)}\n",
    "\n",
    "def node_links(actions, **kwargs):\n",
    "    return {\n",
    "        source_node: sorted([\n",
    "            {'targetId': l['targetId'], 'reward': l['reward'], 'rewardId': reward_id_map[l['reward']]} \n",
    "            for l in links\n",
    "        ], key = lambda l: l['reward'])\n",
    "        for source_node, links in groupby(actions, lambda l: l['sourceId'])\n",
    "    }\n",
    "\n",
    "\n",
    "class NetworkEnvironments:\n",
    "    def __init__(self, networks, n_steps):\n",
    "        self.networks = [\n",
    "            {\n",
    "                'node_links': node_links(**n),\n",
    "                'starting_node': n['starting_node'],\n",
    "                'max_reward': n['max_reward']\n",
    "            }\n",
    "            for n in networks\n",
    "        ]\n",
    "        self.n_steps = n_steps\n",
    "        self.reset()\n",
    "\n",
    "    def step(self, action):\n",
    "        assert not self.done, 'Environment is done already.'\n",
    "        selected_link = self.node_links[self.node][action]\n",
    "        reward = selected_link['reward'] # - (self.max_reward / 8)\n",
    "        self.node = selected_link['targetId']\n",
    "\n",
    "        self.step_count += 1\n",
    "        if self.step_count >= self.n_steps:\n",
    "            self.done = True\n",
    "            observation = None\n",
    "        else:\n",
    "            observation = self.observe(self.step_count, self.node_links[self.node])\n",
    "\n",
    "        return observation, reward, self.done, {'max_reward': self.max_reward}\n",
    "\n",
    "    @staticmethod\n",
    "    def observe(step_count, node_links):\n",
    "        return (step_count, *(nl['rewardId'] for nl in node_links))\n",
    "\n",
    "    def reset(self):\n",
    "        network = random.choice(self.networks)\n",
    "        self.node_links = network['node_links']\n",
    "        self.node = network['starting_node']\n",
    "        self.max_reward = network['max_reward']\n",
    "        self.step_count = 0\n",
    "        self.done = False\n",
    "        return self.observe(self.step_count, self.node_links[self.node])\n"
   ]
  },
  {
   "cell_type": "code",
   "execution_count": 35,
   "metadata": {},
   "outputs": [],
   "source": [
    "env = NetworkEnvironments(train_networks, 8)"
   ]
  },
  {
   "cell_type": "code",
   "execution_count": 36,
   "metadata": {},
   "outputs": [],
   "source": [
    "Q_mr = np.zeros((n_steps, n_rewards, n_rewards, 2)) # m, r\n",
    "\n",
    "def select_action(q, epsilon):\n",
    "    p = np.heaviside(q-q.mean(), 0.5) # s,a\n",
    "    p = p * (1-epsilon) + epsilon / len(q)\n",
    "    return np.random.choice(len(p),p=p)\n",
    "\n",
    "n_epochs = 20000\n",
    "alpha = 0.01\n",
    "epsilon = 0.1\n",
    "\n",
    "all_reward = []\n",
    "all_regret = []\n",
    "\n",
    "for i in range(n_epochs):\n",
    "    done = False\n",
    "    obs = env.reset() # m, r\n",
    "    epoch_reward = 0\n",
    "    while not done:\n",
    "        q = Q_mr[obs]\n",
    "        action = select_action(q, epsilon)\n",
    "        next_obs, reward, done, info = env.step(action)\n",
    "\n",
    "        prev_value = q[action]\n",
    "        if not done:\n",
    "            next_max = np.max(Q_mr[next_obs])\n",
    "        else:\n",
    "            next_max = 0\n",
    "        \n",
    "        new = (1 - alpha) * prev_value + alpha * (reward + next_max)\n",
    "        Q_mr[obs][action] = new\n",
    "        obs = next_obs\n",
    "        epoch_reward += reward\n",
    "    \n",
    "    all_reward.append(epoch_reward)\n",
    "    all_regret.append(info['max_reward'] - epoch_reward)"
   ]
  },
  {
   "cell_type": "code",
   "execution_count": 37,
   "metadata": {},
   "outputs": [
    {
     "data": {
      "text/plain": [
       "{0: [{'targetId': 3, 'reward': -20, 'rewardId': 1},\n",
       "  {'targetId': 1, 'reward': 20, 'rewardId': 2}],\n",
       " 3: [{'targetId': 4, 'reward': 20, 'rewardId': 2},\n",
       "  {'targetId': 0, 'reward': 140, 'rewardId': 3}],\n",
       " 1: [{'targetId': 4, 'reward': -100, 'rewardId': 0},\n",
       "  {'targetId': 2, 'reward': -20, 'rewardId': 1}],\n",
       " 4: [{'targetId': 2, 'reward': -100, 'rewardId': 0},\n",
       "  {'targetId': 5, 'reward': 140, 'rewardId': 3}],\n",
       " 2: [{'targetId': 5, 'reward': -20, 'rewardId': 1},\n",
       "  {'targetId': 3, 'reward': 140, 'rewardId': 3}],\n",
       " 5: [{'targetId': 2, 'reward': -100, 'rewardId': 0},\n",
       "  {'targetId': 1, 'reward': 20, 'rewardId': 2}]}"
      ]
     },
     "execution_count": 37,
     "metadata": {},
     "output_type": "execute_result"
    }
   ],
   "source": [
    "env.node_links\n"
   ]
  },
  {
   "cell_type": "code",
   "execution_count": 38,
   "metadata": {},
   "outputs": [],
   "source": [
    "# lower - higher reward\n",
    "Q_diff = Q_mr[:,:,:,1] - Q_mr[:,:,:,0] "
   ]
  },
  {
   "cell_type": "code",
   "execution_count": 49,
   "metadata": {},
   "outputs": [
    {
     "data": {
      "text/plain": [
       "array([  0.        ,  98.41597751, 194.40843383, 370.6675063 ])"
      ]
     },
     "execution_count": 49,
     "metadata": {},
     "output_type": "execute_result"
    }
   ],
   "source": [
    "Q_diff[1][0]"
   ]
  },
  {
   "cell_type": "code",
   "execution_count": 40,
   "metadata": {},
   "outputs": [
    {
     "data": {
      "text/plain": [
       "[240.0,\n",
       " 40.0,\n",
       " 40.0,\n",
       " 40.0,\n",
       " 40.0,\n",
       " 40.0,\n",
       " 40.0,\n",
       " 160.0,\n",
       " 40.0,\n",
       " 40.0,\n",
       " 200.0,\n",
       " 240.0,\n",
       " 40.0,\n",
       " 200.0,\n",
       " 40.0,\n",
       " 40.0,\n",
       " 120.0,\n",
       " 40.0,\n",
       " 200.0,\n",
       " 40.0]"
      ]
     },
     "execution_count": 40,
     "metadata": {},
     "output_type": "execute_result"
    }
   ],
   "source": [
    "all_regret[-20:]"
   ]
  }
 ],
 "metadata": {
  "interpreter": {
   "hash": "8dd77bba1baced248a8a06b3d423a69f02665d6f465b986b031643d067a6fbff"
  },
  "kernelspec": {
   "display_name": "Python 3.9.3 64-bit ('.venv': venv)",
   "language": "python",
   "name": "python3"
  },
  "language_info": {
   "codemirror_mode": {
    "name": "ipython",
    "version": 3
   },
   "file_extension": ".py",
   "mimetype": "text/x-python",
   "name": "python",
   "nbconvert_exporter": "python",
   "pygments_lexer": "ipython3",
   "version": "3.9.3"
  },
  "orig_nbformat": 4
 },
 "nbformat": 4,
 "nbformat_minor": 2
}
