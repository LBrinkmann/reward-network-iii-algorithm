{
 "cells": [
  {
   "cell_type": "code",
   "execution_count": 3,
   "metadata": {},
   "outputs": [],
   "source": [
    "%load_ext autoreload\n",
    "%autoreload 2\n",
    "\n",
    "import os\n",
    "import torch as th\n",
    "import numpy as np\n",
    "from scripts.utils.utils import load_yaml, make_dir, save_json, load_json\n",
    "from scripts.pruning_models.model import calculate_reward_transition_matrices_new, calculate_q_matrix_avpruning, calculate_traces\n",
    "\n",
    "run = '1000000'\n",
    "n_nodes = 6\n",
    "n_steps = 8\n",
    "n_actions = 2\n",
    "\n",
    "\n",
    "selected_folder =  f'../data/{run}/selected'\n",
    "\n",
    "test_file = os.path.join(selected_folder, 'test.json')\n",
    "train_file = os.path.join(selected_folder, 'train.json')\n",
    "\n",
    "test_networks = load_json(test_file)\n",
    "train_networks = load_json(train_file)"
   ]
  },
  {
   "cell_type": "code",
   "execution_count": 8,
   "metadata": {},
   "outputs": [],
   "source": [
    "import random\n",
    "from itertools import groupby\n",
    "\n",
    "rewards = [-100, -20, 20, 140]\n",
    "n_rewards = len(rewards)\n",
    "reward_id_map = {r: i for i,r in enumerate(rewards)}\n",
    "\n",
    "def node_links(actions, **kwargs):\n",
    "    return {\n",
    "        source_node: sorted([\n",
    "            {'targetId': l['targetId'], 'reward': l['reward'], 'rewardId': reward_id_map[l['reward']]} \n",
    "            for l in links\n",
    "        ], key = lambda l: l['reward'])\n",
    "        for source_node, links in groupby(actions, lambda l: l['sourceId'])\n",
    "    }\n",
    "\n",
    "\n",
    "class NetworkEnvironments:\n",
    "    def __init__(self, networks, n_steps):\n",
    "        self.networks = [\n",
    "            {\n",
    "                'node_links': node_links(**n),\n",
    "                'starting_node': n['starting_node'],\n",
    "                'max_reward': n['max_reward']\n",
    "            }\n",
    "            for n in networks\n",
    "        ]\n",
    "        self.n_steps = n_steps\n",
    "        self.reset()\n",
    "\n",
    "    def step(self, action):\n",
    "        assert not self.done, 'Environment is done already.'\n",
    "        selected_link = self.node_links[self.node][action]\n",
    "        reward = selected_link['reward'] # - (self.max_reward / 8)\n",
    "        self.node = selected_link['targetId']\n",
    "\n",
    "        self.step_count += 1\n",
    "        if self.step_count >= self.n_steps:\n",
    "            self.done = True\n",
    "            observation = None\n",
    "        else:\n",
    "            observation = self.observe(self.step_count, self.node_links[self.node])\n",
    "\n",
    "        return observation, reward, self.done, {'max_reward': self.max_reward}\n",
    "\n",
    "    @staticmethod\n",
    "    def observe(step_count, node_links):\n",
    "        return [\n",
    "            (step_count, nl['rewardId'])\n",
    "            for nl in node_links\n",
    "        ]\n",
    "\n",
    "\n",
    "    def reset(self):\n",
    "        network = random.choice(self.networks)\n",
    "        self.node_links = network['node_links']\n",
    "        self.node = network['starting_node']\n",
    "        self.max_reward = network['max_reward']\n",
    "        self.step_count = 0\n",
    "        self.done = False\n",
    "        return self.observe(self.step_count, self.node_links[self.node])\n"
   ]
  },
  {
   "cell_type": "code",
   "execution_count": 9,
   "metadata": {},
   "outputs": [],
   "source": [
    "env = NetworkEnvironments(train_networks, 8)"
   ]
  },
  {
   "cell_type": "code",
   "execution_count": 289,
   "metadata": {},
   "outputs": [],
   "source": [
    "Q_mr = np.zeros((n_steps, n_rewards)) # m, r\n",
    "\n",
    "def select_action(q, epsilon):\n",
    "    p = np.heaviside(q-q.mean(), 0.5) # s,a\n",
    "    p = p * (1-epsilon) + epsilon / len(q)\n",
    "    return np.random.choice(len(p),p=p)\n",
    "\n",
    "n_epochs = 200000\n",
    "alpha = 0.01\n",
    "epsilon = 1\n",
    "\n",
    "all_reward = []\n",
    "all_regret = []\n",
    "\n",
    "for i in range(n_epochs):\n",
    "    done = False\n",
    "    obs = env.reset() # m, r\n",
    "    epoch_reward = 0\n",
    "    while not done:\n",
    "        q = Q_mr[[o[0] for o in obs],[o[1] for o in obs]]\n",
    "        action = select_action(q, epsilon)\n",
    "        next_obs, reward, done, info = env.step(action)\n",
    "\n",
    "        prev_value = q[action]\n",
    "        if not done:\n",
    "            next_max = np.max(Q_mr[[o[0] for o in next_obs],[o[1] for o in next_obs]])\n",
    "        else:\n",
    "            next_max = 0\n",
    "        \n",
    "        new = (1 - alpha) * prev_value + alpha * (reward + next_max)\n",
    "        Q_mr[obs[action][0],obs[action][1]] = new\n",
    "        obs = next_obs\n",
    "        epoch_reward += reward\n",
    "        # print(i, reward)\n",
    "    \n",
    "    all_reward.append(epoch_reward)\n",
    "    all_regret.append(info['max_reward'] - epoch_reward)\n",
    "\n",
    "    "
   ]
  },
  {
   "cell_type": "code",
   "execution_count": 290,
   "metadata": {},
   "outputs": [
    {
     "data": {
      "text/plain": [
       "array([[ 393.1020332 ,  402.74919728,  381.68414756,    0.        ],\n",
       "       [ 265.28979613,  344.1867531 ,  393.67604398,  504.74582329],\n",
       "       [ 218.05942111,  289.86174369,  322.58579478,  419.51160907],\n",
       "       [ 157.30468366,  223.90987325,  278.66380693,  371.08431145],\n",
       "       [ 106.30645761,  168.6013652 ,  208.48254967,  304.27480705],\n",
       "       [  39.53544853,   98.39675002,  158.16578204,  249.22611848],\n",
       "       [  -9.75845497,   46.68175443,   96.78841449,  183.83081673],\n",
       "       [-100.        ,  -20.        ,   20.        ,  140.        ]])"
      ]
     },
     "execution_count": 290,
     "metadata": {},
     "output_type": "execute_result"
    }
   ],
   "source": [
    "Q_mr"
   ]
  },
  {
   "cell_type": "code",
   "execution_count": 286,
   "metadata": {},
   "outputs": [
    {
     "data": {
      "text/plain": [
       "[-440,\n",
       " -160,\n",
       " -200,\n",
       " 560,\n",
       " 0,\n",
       " -320,\n",
       " -280,\n",
       " -120,\n",
       " -80,\n",
       " 120,\n",
       " 200,\n",
       " 240,\n",
       " 40,\n",
       " 0,\n",
       " 40,\n",
       " -40,\n",
       " 280,\n",
       " 200,\n",
       " 40,\n",
       " 320]"
      ]
     },
     "execution_count": 286,
     "metadata": {},
     "output_type": "execute_result"
    }
   ],
   "source": [
    "all_reward[-20:]"
   ]
  }
 ],
 "metadata": {
  "interpreter": {
   "hash": "8dd77bba1baced248a8a06b3d423a69f02665d6f465b986b031643d067a6fbff"
  },
  "kernelspec": {
   "display_name": "Python 3.9.3 64-bit ('.venv': venv)",
   "language": "python",
   "name": "python3"
  },
  "language_info": {
   "codemirror_mode": {
    "name": "ipython",
    "version": 3
   },
   "file_extension": ".py",
   "mimetype": "text/x-python",
   "name": "python",
   "nbconvert_exporter": "python",
   "pygments_lexer": "ipython3",
   "version": "3.9.3"
  },
  "orig_nbformat": 4
 },
 "nbformat": 4,
 "nbformat_minor": 2
}
